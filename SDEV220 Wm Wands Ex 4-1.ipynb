{
 "cells": [
  {
   "cell_type": "code",
   "execution_count": 6,
   "metadata": {},
   "outputs": [
    {
     "name": "stdout",
     "output_type": "stream",
     "text": [
      "just right\n"
     ]
    }
   ],
   "source": [
    "\n",
    "guess = 7\n",
    "secret = 7\n",
    "\n",
    "if guess == secret:\n",
    "    print('just right')\n",
    "elif  guess < secret:\n",
    "    print('too low')\n",
    "else:\n",
    "    print('too high')\n",
    "\n",
    "\n"
   ]
  },
  {
   "cell_type": "markdown",
   "metadata": {},
   "source": [
    "William Wands Module 2 Ex 4.1"
   ]
  }
 ],
 "metadata": {
  "kernelspec": {
   "display_name": "Python 3.10.5 64-bit",
   "language": "python",
   "name": "python3"
  },
  "language_info": {
   "codemirror_mode": {
    "name": "ipython",
    "version": 3
   },
   "file_extension": ".py",
   "mimetype": "text/x-python",
   "name": "python",
   "nbconvert_exporter": "python",
   "pygments_lexer": "ipython3",
   "version": "3.10.5"
  },
  "orig_nbformat": 4,
  "vscode": {
   "interpreter": {
    "hash": "daa01d45737d168c6c7b56aec06bb216c0ddb38d2c4af70edd6cbfd27bd50608"
   }
  }
 },
 "nbformat": 4,
 "nbformat_minor": 2
}
