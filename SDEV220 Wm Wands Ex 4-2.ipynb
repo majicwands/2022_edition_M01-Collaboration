{
 "cells": [
  {
   "cell_type": "code",
   "execution_count": 4,
   "metadata": {},
   "outputs": [
    {
     "name": "stdout",
     "output_type": "stream",
     "text": [
      "it is a Watermelon\n",
      "it is a pea\n"
     ]
    }
   ],
   "source": [
    "small = False\n",
    "green = True\n",
    "if small != green :\n",
    "    print('it is a Watermelon')\n",
    "else:\n",
    "    small = green\n",
    "    print('it is a cherry')\n",
    "if green != small:\n",
    "    print('it is a pea')\n",
    "else:\n",
    "    green = small\n",
    "    print('It is a Pumpkin')\n"
   ]
  },
  {
   "cell_type": "code",
   "execution_count": null,
   "metadata": {},
   "outputs": [],
   "source": []
  }
 ],
 "metadata": {
  "kernelspec": {
   "display_name": "Python 3.10.5 64-bit",
   "language": "python",
   "name": "python3"
  },
  "language_info": {
   "codemirror_mode": {
    "name": "ipython",
    "version": 3
   },
   "file_extension": ".py",
   "mimetype": "text/x-python",
   "name": "python",
   "nbconvert_exporter": "python",
   "pygments_lexer": "ipython3",
   "version": "3.10.5"
  },
  "orig_nbformat": 4,
  "vscode": {
   "interpreter": {
    "hash": "daa01d45737d168c6c7b56aec06bb216c0ddb38d2c4af70edd6cbfd27bd50608"
   }
  }
 },
 "nbformat": 4,
 "nbformat_minor": 2
}
