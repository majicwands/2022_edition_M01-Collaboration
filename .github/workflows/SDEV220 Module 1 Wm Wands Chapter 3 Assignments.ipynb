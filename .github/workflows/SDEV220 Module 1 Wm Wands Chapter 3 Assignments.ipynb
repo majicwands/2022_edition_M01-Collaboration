{
 "cells": [
  {
   "cell_type": "code",
   "execution_count": null,
   "metadata": {},
   "outputs": [],
   "source": [
    "#calculate the amout of seconds in an hour\n",
    "sec = float(1)\n",
    "\n",
    "min = float(sec * 60)\n",
    "\n",
    "hour = float(min * 60)\n",
    "\n",
    "time = input(float('enter the amout of hours to calculate')) \n",
    "\n",
    " SecOfTime = (time /)\n",
    "\n",
    "\n",
    "\n"
   ]
  },
  {
   "cell_type": "markdown",
   "metadata": {},
   "source": [
    "SDEV 220 Assignment 3.1 William Wands"
   ]
  },
  {
   "cell_type": "markdown",
   "metadata": {},
   "source": []
  }
 ],
 "metadata": {
  "language_info": {
   "name": "python"
  },
  "orig_nbformat": 4
 },
 "nbformat": 4,
 "nbformat_minor": 2
}
