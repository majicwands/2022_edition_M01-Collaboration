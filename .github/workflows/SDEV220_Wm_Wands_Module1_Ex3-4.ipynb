{
 "cells": [
  {
   "cell_type": "code",
   "execution_count": 7,
   "metadata": {},
   "outputs": [
    {
     "name": "stdout",
     "output_type": "stream",
     "text": [
      "Here is the time in hours, minutes, seconds, and seconds per day:\n",
      "Hours: 1.0\n",
      "Minutes: 60.0\n",
      "Seconds: 3600.0\n",
      "Seconds per day:  150.0\n"
     ]
    }
   ],
   "source": [
    "#this program prints the number of hours, minutes and seconds from an input of hours\n",
    "#SDEV220 WM WANDS DATE 9-6-2022\n",
    "\n",
    "# Input of hours\n",
    "total_hours = float(input('Enter the amount of hours: '))\n",
    "hours = total_hours\n",
    "# Input number of days\n",
    "number_of_days = float(input('Enter the number of days'))\n",
    "\n",
    "# Get the number of remaining minutes.\n",
    "minutes = (total_hours * 60) \n",
    "\n",
    "# Get the number of remaining seconds.\n",
    "seconds_per_hour = (total_hours * 3600)\n",
    "\n",
    "# Get the number of seconds per day\n",
    "seconds_per_day = (seconds_per_hour /24) \n",
    "\n",
    "\n",
    "total_days = number_of_days * seconds_per_day \n",
    "\n",
    "# Display the results.\n",
    "print('Here is the time in hours, minutes, seconds, and seconds per day:')\n",
    "print('Hours:', hours)\n",
    "print('Minutes:', minutes)\n",
    "print('Seconds:', seconds_per_hour)\n",
    "print('Seconds per day: ', seconds_per_day)\n",
    "\n"
   ]
  }
 ],
 "metadata": {
  "kernelspec": {
   "display_name": "Python 3.10.5 64-bit",
   "language": "python",
   "name": "python3"
  },
  "language_info": {
   "codemirror_mode": {
    "name": "ipython",
    "version": 3
   },
   "file_extension": ".py",
   "mimetype": "text/x-python",
   "name": "python",
   "nbconvert_exporter": "python",
   "pygments_lexer": "ipython3",
   "version": "3.10.5"
  },
  "orig_nbformat": 4,
  "vscode": {
   "interpreter": {
    "hash": "daa01d45737d168c6c7b56aec06bb216c0ddb38d2c4af70edd6cbfd27bd50608"
   }
  }
 },
 "nbformat": 4,
 "nbformat_minor": 2
}
